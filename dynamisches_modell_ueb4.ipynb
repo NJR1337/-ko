{
 "cells": [
  {
   "cell_type": "markdown",
   "metadata": {},
   "source": [
    "1. Datenaufbereitung: Laden und inspizieren Sie die Daten.\n",
    "2. Stationarität prüfen: Überprüfen Sie, ob die Zeitreihe stationär ist.\n",
    "3. Differenzierung: Falls die Zeitreihe nicht stationär ist, machen Sie sie stationär.\n",
    "4. Modell identifizieren: Bestimmen Sie die Parameter p, d und q für das ARIMA-Modell.\n",
    "5. Modell schätzen: Schätzen Sie die Modellparameter.\n",
    "6. Modell diagnostizieren: Überprüfen Sie die Modellanpassung.\n",
    "7. Prognosen erstellen: Verwenden Sie das Modell zur Vorhersage."
   ]
  },
  {
   "cell_type": "code",
   "execution_count": 1,
   "metadata": {},
   "outputs": [],
   "source": [
    "import pandas as pd\n",
    "import numpy as np\n",
    "import matplotlib.pyplot as plt\n",
    "from statsmodels.tsa.stattools import adfuller\n",
    "from statsmodels.graphics.tsaplots import plot_acf, plot_pacf\n",
    "from statsmodels.tsa.arima.model import ARIMA\n",
    "import scipy.stats as stats"
   ]
  },
  {
   "cell_type": "code",
   "execution_count": null,
   "metadata": {},
   "outputs": [],
   "source": []
  }
 ],
 "metadata": {
  "kernelspec": {
   "display_name": "base",
   "language": "python",
   "name": "python3"
  },
  "language_info": {
   "codemirror_mode": {
    "name": "ipython",
    "version": 3
   },
   "file_extension": ".py",
   "mimetype": "text/x-python",
   "name": "python",
   "nbconvert_exporter": "python",
   "pygments_lexer": "ipython3",
   "version": "3.11.5"
  }
 },
 "nbformat": 4,
 "nbformat_minor": 2
}
