{
 "cells": [
  {
   "cell_type": "code",
   "execution_count": 14,
   "metadata": {},
   "outputs": [],
   "source": [
    "import pandas as pd\n",
    "import numpy as np\n",
    "import statsmodels.api as sm\n",
    "import matplotlib.pyplot as plt\n",
    "from statsmodels.stats.outliers_influence import variance_inflation_factor\n",
    "from statsmodels.graphics.gofplots import qqplot\n",
    "from sklearn.model_selection import train_test_split"
   ]
  },
  {
   "cell_type": "code",
   "execution_count": 15,
   "metadata": {},
   "outputs": [
    {
     "data": {
      "text/html": [
       "<div>\n",
       "<style scoped>\n",
       "    .dataframe tbody tr th:only-of-type {\n",
       "        vertical-align: middle;\n",
       "    }\n",
       "\n",
       "    .dataframe tbody tr th {\n",
       "        vertical-align: top;\n",
       "    }\n",
       "\n",
       "    .dataframe thead th {\n",
       "        text-align: right;\n",
       "    }\n",
       "</style>\n",
       "<table border=\"1\" class=\"dataframe\">\n",
       "  <thead>\n",
       "    <tr style=\"text-align: right;\">\n",
       "      <th></th>\n",
       "      <th>CRIM</th>\n",
       "      <th>ZN</th>\n",
       "      <th>INDUS</th>\n",
       "      <th>CHAS</th>\n",
       "      <th>NOX</th>\n",
       "      <th>RM</th>\n",
       "      <th>AGE</th>\n",
       "      <th>DIS</th>\n",
       "      <th>RAD</th>\n",
       "      <th>TAX</th>\n",
       "      <th>PTRATIO</th>\n",
       "      <th>B</th>\n",
       "      <th>LSTAT</th>\n",
       "      <th>MEDV</th>\n",
       "    </tr>\n",
       "  </thead>\n",
       "  <tbody>\n",
       "    <tr>\n",
       "      <th>0</th>\n",
       "      <td>0.00632</td>\n",
       "      <td>18.0</td>\n",
       "      <td>2.31</td>\n",
       "      <td>0</td>\n",
       "      <td>0.538</td>\n",
       "      <td>6.575</td>\n",
       "      <td>65.2</td>\n",
       "      <td>4.0900</td>\n",
       "      <td>1</td>\n",
       "      <td>296.0</td>\n",
       "      <td>15.3</td>\n",
       "      <td>396.90</td>\n",
       "      <td>4.98</td>\n",
       "      <td>24.0</td>\n",
       "    </tr>\n",
       "    <tr>\n",
       "      <th>1</th>\n",
       "      <td>0.02731</td>\n",
       "      <td>0.0</td>\n",
       "      <td>7.07</td>\n",
       "      <td>0</td>\n",
       "      <td>0.469</td>\n",
       "      <td>6.421</td>\n",
       "      <td>78.9</td>\n",
       "      <td>4.9671</td>\n",
       "      <td>2</td>\n",
       "      <td>242.0</td>\n",
       "      <td>17.8</td>\n",
       "      <td>396.90</td>\n",
       "      <td>9.14</td>\n",
       "      <td>21.6</td>\n",
       "    </tr>\n",
       "    <tr>\n",
       "      <th>2</th>\n",
       "      <td>0.02729</td>\n",
       "      <td>0.0</td>\n",
       "      <td>7.07</td>\n",
       "      <td>0</td>\n",
       "      <td>0.469</td>\n",
       "      <td>7.185</td>\n",
       "      <td>61.1</td>\n",
       "      <td>4.9671</td>\n",
       "      <td>2</td>\n",
       "      <td>242.0</td>\n",
       "      <td>17.8</td>\n",
       "      <td>392.83</td>\n",
       "      <td>4.03</td>\n",
       "      <td>34.7</td>\n",
       "    </tr>\n",
       "    <tr>\n",
       "      <th>3</th>\n",
       "      <td>0.03237</td>\n",
       "      <td>0.0</td>\n",
       "      <td>2.18</td>\n",
       "      <td>0</td>\n",
       "      <td>0.458</td>\n",
       "      <td>6.998</td>\n",
       "      <td>45.8</td>\n",
       "      <td>6.0622</td>\n",
       "      <td>3</td>\n",
       "      <td>222.0</td>\n",
       "      <td>18.7</td>\n",
       "      <td>394.63</td>\n",
       "      <td>2.94</td>\n",
       "      <td>33.4</td>\n",
       "    </tr>\n",
       "    <tr>\n",
       "      <th>4</th>\n",
       "      <td>0.06905</td>\n",
       "      <td>0.0</td>\n",
       "      <td>2.18</td>\n",
       "      <td>0</td>\n",
       "      <td>0.458</td>\n",
       "      <td>7.147</td>\n",
       "      <td>54.2</td>\n",
       "      <td>6.0622</td>\n",
       "      <td>3</td>\n",
       "      <td>222.0</td>\n",
       "      <td>18.7</td>\n",
       "      <td>396.90</td>\n",
       "      <td>5.33</td>\n",
       "      <td>36.2</td>\n",
       "    </tr>\n",
       "  </tbody>\n",
       "</table>\n",
       "</div>"
      ],
      "text/plain": [
       "      CRIM    ZN  INDUS  CHAS    NOX     RM   AGE     DIS  RAD    TAX  \\\n",
       "0  0.00632  18.0   2.31     0  0.538  6.575  65.2  4.0900    1  296.0   \n",
       "1  0.02731   0.0   7.07     0  0.469  6.421  78.9  4.9671    2  242.0   \n",
       "2  0.02729   0.0   7.07     0  0.469  7.185  61.1  4.9671    2  242.0   \n",
       "3  0.03237   0.0   2.18     0  0.458  6.998  45.8  6.0622    3  222.0   \n",
       "4  0.06905   0.0   2.18     0  0.458  7.147  54.2  6.0622    3  222.0   \n",
       "\n",
       "   PTRATIO       B  LSTAT  MEDV  \n",
       "0     15.3  396.90   4.98  24.0  \n",
       "1     17.8  396.90   9.14  21.6  \n",
       "2     17.8  392.83   4.03  34.7  \n",
       "3     18.7  394.63   2.94  33.4  \n",
       "4     18.7  396.90   5.33  36.2  "
      ]
     },
     "execution_count": 15,
     "metadata": {},
     "output_type": "execute_result"
    }
   ],
   "source": [
    "# Daten laden\n",
    "# df = pd.read_csv('./data.csv')\n",
    "df = pd.read_csv('./boston.csv')\n",
    "\n",
    "# Daten vorverarbeiten\n",
    "df = df.dropna()\n",
    "df.head()"
   ]
  },
  {
   "cell_type": "markdown",
   "metadata": {},
   "source": [
    "#### Erklärung der Variablen zu Boston Dataset\n",
    "\n",
    "Input features in order:\n",
    "1) CRIM: per capita crime rate by town\n",
    "2) ZN: proportion of residential land zoned for lots over 25,000 sq.ft.\n",
    "3) INDUS: proportion of non-retail business acres per town\n",
    "4) CHAS: Charles River dummy variable (1 if tract bounds river; 0 otherwise)\n",
    "5) NOX: nitric oxides concentration (parts per 10 million) [parts/10M]\n",
    "6) RM: average number of rooms per dwelling\n",
    "7) AGE: proportion of owner-occupied units built prior to 1940\n",
    "8) DIS: weighted distances to five Boston employment centres\n",
    "9) RAD: index of accessibility to radial highways\n",
    "10) TAX: full-value property-tax rate per $10,000 [$/10k]\n",
    "11) PTRATIO: pupil-teacher ratio by town\n",
    "12) B: The result of the equation B=1000(Bk - 0.63)^2 where Bk is the proportion of blacks by town\n",
    "13) LSTAT: % lower status of the population\n",
    "\n",
    "Output variable:\n",
    "1) MEDV: Median value of owner-occupied homes in $1000's [k$]"
   ]
  },
  {
   "cell_type": "markdown",
   "metadata": {},
   "source": [
    "#### Modellentwicklung"
   ]
  },
  {
   "cell_type": "code",
   "execution_count": 16,
   "metadata": {},
   "outputs": [
    {
     "name": "stdout",
     "output_type": "stream",
     "text": [
      "                            OLS Regression Results                            \n",
      "==============================================================================\n",
      "Dep. Variable:                   MEDV   R-squared:                       0.741\n",
      "Model:                            OLS   Adj. R-squared:                  0.734\n",
      "Method:                 Least Squares   F-statistic:                     108.1\n",
      "Date:                Thu, 30 May 2024   Prob (F-statistic):          6.72e-135\n",
      "Time:                        11:54:04   Log-Likelihood:                -1498.8\n",
      "No. Observations:                 506   AIC:                             3026.\n",
      "Df Residuals:                     492   BIC:                             3085.\n",
      "Df Model:                          13                                         \n",
      "Covariance Type:            nonrobust                                         \n",
      "==============================================================================\n",
      "                 coef    std err          t      P>|t|      [0.025      0.975]\n",
      "------------------------------------------------------------------------------\n",
      "const         36.4595      5.103      7.144      0.000      26.432      46.487\n",
      "CRIM          -0.1080      0.033     -3.287      0.001      -0.173      -0.043\n",
      "ZN             0.0464      0.014      3.382      0.001       0.019       0.073\n",
      "INDUS          0.0206      0.061      0.334      0.738      -0.100       0.141\n",
      "CHAS           2.6867      0.862      3.118      0.002       0.994       4.380\n",
      "NOX          -17.7666      3.820     -4.651      0.000     -25.272     -10.262\n",
      "RM             3.8099      0.418      9.116      0.000       2.989       4.631\n",
      "AGE            0.0007      0.013      0.052      0.958      -0.025       0.027\n",
      "DIS           -1.4756      0.199     -7.398      0.000      -1.867      -1.084\n",
      "RAD            0.3060      0.066      4.613      0.000       0.176       0.436\n",
      "TAX           -0.0123      0.004     -3.280      0.001      -0.020      -0.005\n",
      "PTRATIO       -0.9527      0.131     -7.283      0.000      -1.210      -0.696\n",
      "B              0.0093      0.003      3.467      0.001       0.004       0.015\n",
      "LSTAT         -0.5248      0.051    -10.347      0.000      -0.624      -0.425\n",
      "==============================================================================\n",
      "Omnibus:                      178.041   Durbin-Watson:                   1.078\n",
      "Prob(Omnibus):                  0.000   Jarque-Bera (JB):              783.126\n",
      "Skew:                           1.521   Prob(JB):                    8.84e-171\n",
      "Kurtosis:                       8.281   Cond. No.                     1.51e+04\n",
      "==============================================================================\n",
      "\n",
      "Notes:\n",
      "[1] Standard Errors assume that the covariance matrix of the errors is correctly specified.\n",
      "[2] The condition number is large, 1.51e+04. This might indicate that there are\n",
      "strong multicollinearity or other numerical problems.\n"
     ]
    }
   ],
   "source": [
    "# Zielvariable und Prädiktoren definieren\n",
    "# target = 'price'\n",
    "# predictors = ['bedrooms', 'bathrooms', 'sqft_living', 'sqft_lot', 'floors', \n",
    "#              'waterfront', 'view', 'condition', 'sqft_above', 'sqft_basement', \n",
    "#              'yr_built', 'yr_renovated']\n",
    "target = 'MEDV'\n",
    "predictors = df.columns.drop(target).tolist()\n",
    "\n",
    "# Daten für das Modell vorbereiten\n",
    "X = df[predictors]\n",
    "y = df[target]\n",
    "X = sm.add_constant(X)  # Adds a constant term to the predictor\n",
    "\n",
    "# Modell erstellen und fitten\n",
    "model = sm.OLS(y, X).fit()\n",
    "\n",
    "# Modellzusammenfassung anzeigen\n",
    "print(model.summary())"
   ]
  },
  {
   "cell_type": "markdown",
   "metadata": {},
   "source": [
    "- **R-squared (R²)**: Ein Maß für die Güte der Anpassung des Modells. Es gibt an, welcher Anteil der Varianz in der abhängigen Variable durch die unabhängigen Variablen erklärt wird. Ein Wert von 1 bedeutet perfekte Anpassung, ein Wert von 0 bedeutet, dass das Modell keine erklärende Kraft hat.\n",
    "- **Adj. R-squared**: Anpassung des R²-Werts, der die Anzahl der Prädiktoren berücksichtigt. Er gibt eine realistischere Einschätzung der Modellgüte, besonders wenn viele Prädiktoren verwendet werden.\n",
    "- **F-statistic und Prob (F-statistic)**: Der F-Test prüft, ob das Modell insgesamt signifikant ist. Ein kleiner p-Wert (unter 0.05) deutet darauf hin, dass das Modell signifikant ist.\n",
    "- **Coefficients**: Die Koeffizienten der unabhängigen Variablen im Modell. Diese Werte zeigen die geschätzte Änderung in der abhängigen Variable für eine Einheit Änderung der jeweiligen unabhängigen Variable.\n",
    "- **P>|t| für jeden Koeffizienten**: Der p-Wert für den t-Test der Nullhypothese, dass der Koeffizient gleich Null ist. Ein kleiner p-Wert (unter 0.05) deutet darauf hin, dass der Koeffizient signifikant von Null abweicht."
   ]
  },
  {
   "cell_type": "markdown",
   "metadata": {},
   "source": [
    "#### Signifikanztests"
   ]
  },
  {
   "cell_type": "code",
   "execution_count": 17,
   "metadata": {},
   "outputs": [
    {
     "name": "stdout",
     "output_type": "stream",
     "text": [
      "Parameter Signifikanz:\n",
      "const      3.283438e-12\n",
      "CRIM       1.086810e-03\n",
      "ZN         7.781097e-04\n",
      "INDUS      7.382881e-01\n",
      "CHAS       1.925030e-03\n",
      "NOX        4.245644e-06\n",
      "RM         1.979441e-18\n",
      "AGE        9.582293e-01\n",
      "DIS        6.013491e-13\n",
      "RAD        5.070529e-06\n",
      "TAX        1.111637e-03\n",
      "PTRATIO    1.308835e-12\n",
      "B          5.728592e-04\n",
      "LSTAT      7.776912e-23\n",
      "Name: P>|t|, dtype: float64\n",
      "Modell Signifikanz:\n",
      "6.722174750114365e-135\n"
     ]
    }
   ],
   "source": [
    "# Parameter Signifikanz\n",
    "parameter_p_values = model.summary2().tables[1]['P>|t|']\n",
    "print(\"Parameter Signifikanz:\")\n",
    "print(parameter_p_values)\n",
    "\n",
    "# Modell Signifikanz\n",
    "model_f_pvalue = model.f_pvalue\n",
    "print(\"Modell Signifikanz:\")\n",
    "print(model_f_pvalue)"
   ]
  },
  {
   "cell_type": "markdown",
   "metadata": {},
   "source": [
    "**Ergebnis**: Parameter Signifikanz\n",
    "\n",
    "- **P-Werte für jeden Parameter**: Diese zeigen, ob jeder einzelne Prädiktor signifikant zur Vorhersage der abhängigen Variable beiträgt. Ein p-Wert unter 0.05 deutet darauf hin, dass der entsprechende Prädiktor signifikant ist.\n",
    "\n",
    "**Ergebnis**: Modell Signifikanz\n",
    "\n",
    "- **F-Statistik p-Wert**: Dieser Wert gibt an, ob das gesamte Modell signifikant ist. Ein p-Wert unter 0.05 bedeutet, dass das Modell insgesamt signifikant ist und dass zumindest ein Prädiktor einen signifikanten Einfluss auf die abhängige Variable hat."
   ]
  },
  {
   "cell_type": "markdown",
   "metadata": {},
   "source": [
    "#### Ex-ante Prognose und Prognosefehler"
   ]
  },
  {
   "cell_type": "code",
   "execution_count": 18,
   "metadata": {},
   "outputs": [
    {
     "name": "stdout",
     "output_type": "stream",
     "text": [
      "Ex-ante Prognosefehler:\n",
      "24.291119474973534\n",
      "Final Prediction Error (FPE):\n",
      "22.475914530343008\n"
     ]
    }
   ],
   "source": [
    "# Daten in Trainings- und Testdatensatz aufteilen\n",
    "train_data, test_data = train_test_split(df, test_size=0.2, random_state=42)\n",
    "\n",
    "# Trainingsdaten für das Modell vorbereiten\n",
    "X_train = train_data[predictors]\n",
    "y_train = train_data[target]\n",
    "X_train = sm.add_constant(X_train)\n",
    "\n",
    "# Modell auf Trainingsdaten erstellen und fitten\n",
    "model = sm.OLS(y_train, X_train).fit()\n",
    "\n",
    "# Testdaten vorbereiten\n",
    "X_test = test_data[predictors]\n",
    "y_test = test_data[target]\n",
    "X_test = sm.add_constant(X_test)\n",
    "\n",
    "# Ex-ante Prognose durchführen\n",
    "ex_ante_predictions = model.predict(X_test)\n",
    "\n",
    "# Prognosefehler berechnen\n",
    "forecast_error = np.mean((ex_ante_predictions - y_test) ** 2)\n",
    "print(\"Ex-ante Prognosefehler:\")\n",
    "print(forecast_error)\n",
    "\n",
    "# Final Prediction Error (FPE) für das Modell auf den Trainingsdaten\n",
    "n = model.nobs\n",
    "k = model.df_model + 1\n",
    "residual_sum_of_squares = model.ssr\n",
    "fpe = residual_sum_of_squares / (n - k - 1)\n",
    "print(\"Final Prediction Error (FPE):\")\n",
    "print(fpe)"
   ]
  },
  {
   "cell_type": "markdown",
   "metadata": {},
   "source": [
    "**Ergbenis**: Ex-ante Prognosefehler\n",
    "\n",
    "- **Forecast Error (Prognosefehler)**: Dieser Wert misst die durchschnittliche Abweichung der Vorhersagen des Modells von den tatsächlichen Werten in den Testdaten. Ein kleinerer Wert deutet auf eine bessere Vorhersagegenauigkeit des Modells hin.\n",
    "\n",
    "**Ergebnis**: Final Prediction Error (FPE)\n",
    "\n",
    "- **FPE**: Ein Maß zur Bewertung der Modellgenauigkeit, das sowohl die Varianz der Schätzfehler als auch die Anzahl der Prädiktoren im Modell berücksichtigt. Ein kleinerer Wert deutet auf eine bessere Modellgenauigkeit hin.\n"
   ]
  },
  {
   "cell_type": "markdown",
   "metadata": {},
   "source": [
    "#### Test der Modellannahmen"
   ]
  },
  {
   "cell_type": "code",
   "execution_count": 19,
   "metadata": {},
   "outputs": [
    {
     "data": {
      "image/png": "[encoded data removed]",
      "text/plain": [
       "<Figure size 640x480 with 1 Axes>"
      ]
     },
     "metadata": {},
     "output_type": "display_data"
    },
    {
     "data": {
      "image/png": "[encoded data removed]",
      "text/plain": [
       "<Figure size 640x480 with 1 Axes>"
      ]
     },
     "metadata": {},
     "output_type": "display_data"
    },
    {
     "name": "stdout",
     "output_type": "stream",
     "text": [
      "Multikollinearität:\n",
      "    VIF Factor features\n",
      "0     2.100373     CRIM\n",
      "1     2.844013       ZN\n",
      "2    14.485758    INDUS\n",
      "3     1.152952     CHAS\n",
      "4    73.894947      NOX\n",
      "5    77.948283       RM\n",
      "6    21.386850      AGE\n",
      "7    14.699652      DIS\n",
      "8    15.167725      RAD\n",
      "9    61.227274      TAX\n",
      "10   85.029547  PTRATIO\n",
      "11   20.104943        B\n",
      "12   11.102025    LSTAT\n"
     ]
    }
   ],
   "source": [
    "# Normalität der Residuen testen\n",
    "residuals = model.resid\n",
    "qqplot(residuals, line='s')\n",
    "plt.show()\n",
    "\n",
    "# Homoskedastizität der Residuen testen\n",
    "fitted = model.fittedvalues\n",
    "plt.scatter(fitted, residuals)\n",
    "plt.xlabel('Fitted values')\n",
    "plt.ylabel('Residuals')\n",
    "plt.axhline(0, color='red', linewidth=2)\n",
    "plt.show()\n",
    "\n",
    "# Multikollinearität testen\n",
    "from statsmodels.stats.outliers_influence import variance_inflation_factor\n",
    "\n",
    "X = df[predictors]\n",
    "vif = pd.DataFrame()\n",
    "vif[\"VIF Factor\"] = [variance_inflation_factor(X.values, i) for i in range(X.shape[1])]\n",
    "vif[\"features\"] = X.columns\n",
    "print(\"Multikollinearität:\")\n",
    "print(vif)"
   ]
  },
  {
   "cell_type": "markdown",
   "metadata": {},
   "source": [
    "**Ergebnis**: Normalität der Residuen\n",
    "\n",
    "- **Q-Q-Plot der Residuen**: Dies ist eine grafische Darstellung zur Überprüfung, ob die Residuen (Fehlerterme) des Modells einer Normalverteilung folgen. Wenn die Punkte im Q-Q-Plot entlang der Diagonalen liegen, deutet dies darauf hin, dass die Residuen normal verteilt sind.\n",
    "\n",
    "**Ergebnis**: Homoskedastizität der Residuen\n",
    "\n",
    "- **Streudiagramm der Residuen gegen die vorhergesagten Werte**: Dieses Diagramm zeigt, ob die Varianz der Residuen konstant bleibt (Homoskedastizität) oder sich ändert (Heteroskedastizität). Eine gleichmäßige Streuung der Punkte deutet auf Homoskedastizität hin, während ein Muster auf Heteroskedastizität hinweist.\n",
    "\n",
    "**Ergebnis**: Multikollinearität\n",
    "\n",
    "- **Variance Inflation Factor (VIF)**: Diese Werte zeigen, ob es Multikollinearität zwischen den Prädiktoren gibt. Ein VIF-Wert über 10 deutet auf eine hohe Korrelation und damit auf Multikollinearität hin, was die Schätzung der Koeffizienten destabilisieren kann."
   ]
  }
 ],
 "metadata": {
  "kernelspec": {
   "display_name": "base",
   "language": "python",
   "name": "python3"
  },
  "language_info": {
   "codemirror_mode": {
    "name": "ipython",
    "version": 3
   },
   "file_extension": ".py",
   "mimetype": "text/x-python",
   "name": "python",
   "nbconvert_exporter": "python",
   "pygments_lexer": "ipython3",
   "version": "3.11.5"
  }
 },
 "nbformat": 4,
 "nbformat_minor": 2
}
