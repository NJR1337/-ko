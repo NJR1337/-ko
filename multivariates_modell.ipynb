{
 "cells": [
  {
   "cell_type": "code",
   "execution_count": 1,
   "metadata": {},
   "outputs": [],
   "source": [
    "import pandas as pd\n",
    "import numpy as np\n",
    "import statsmodels.api as sm\n",
    "import matplotlib.pyplot as plt\n",
    "from statsmodels.stats.outliers_influence import variance_inflation_factor\n",
    "from statsmodels.graphics.gofplots import qqplot\n",
    "from sklearn.model_selection import train_test_split"
   ]
  },
  {
   "cell_type": "code",
   "execution_count": 2,
   "metadata": {},
   "outputs": [
    {
     "data": {
      "text/html": [
       "<div>\n",
       "<style scoped>\n",
       "    .dataframe tbody tr th:only-of-type {\n",
       "        vertical-align: middle;\n",
       "    }\n",
       "\n",
       "    .dataframe tbody tr th {\n",
       "        vertical-align: top;\n",
       "    }\n",
       "\n",
       "    .dataframe thead th {\n",
       "        text-align: right;\n",
       "    }\n",
       "</style>\n",
       "<table border=\"1\" class=\"dataframe\">\n",
       "  <thead>\n",
       "    <tr style=\"text-align: right;\">\n",
       "      <th></th>\n",
       "      <th>CRIM</th>\n",
       "      <th>ZN</th>\n",
       "      <th>INDUS</th>\n",
       "      <th>CHAS</th>\n",
       "      <th>NOX</th>\n",
       "      <th>RM</th>\n",
       "      <th>AGE</th>\n",
       "      <th>DIS</th>\n",
       "      <th>RAD</th>\n",
       "      <th>TAX</th>\n",
       "      <th>PTRATIO</th>\n",
       "      <th>B</th>\n",
       "      <th>LSTAT</th>\n",
       "      <th>MEDV</th>\n",
       "    </tr>\n",
       "  </thead>\n",
       "  <tbody>\n",
       "    <tr>\n",
       "      <th>0</th>\n",
       "      <td>0.00632</td>\n",
       "      <td>18.0</td>\n",
       "      <td>2.31</td>\n",
       "      <td>0</td>\n",
       "      <td>0.538</td>\n",
       "      <td>6.575</td>\n",
       "      <td>65.2</td>\n",
       "      <td>4.0900</td>\n",
       "      <td>1</td>\n",
       "      <td>296.0</td>\n",
       "      <td>15.3</td>\n",
       "      <td>396.90</td>\n",
       "      <td>4.98</td>\n",
       "      <td>24.0</td>\n",
       "    </tr>\n",
       "    <tr>\n",
       "      <th>1</th>\n",
       "      <td>0.02731</td>\n",
       "      <td>0.0</td>\n",
       "      <td>7.07</td>\n",
       "      <td>0</td>\n",
       "      <td>0.469</td>\n",
       "      <td>6.421</td>\n",
       "      <td>78.9</td>\n",
       "      <td>4.9671</td>\n",
       "      <td>2</td>\n",
       "      <td>242.0</td>\n",
       "      <td>17.8</td>\n",
       "      <td>396.90</td>\n",
       "      <td>9.14</td>\n",
       "      <td>21.6</td>\n",
       "    </tr>\n",
       "    <tr>\n",
       "      <th>2</th>\n",
       "      <td>0.02729</td>\n",
       "      <td>0.0</td>\n",
       "      <td>7.07</td>\n",
       "      <td>0</td>\n",
       "      <td>0.469</td>\n",
       "      <td>7.185</td>\n",
       "      <td>61.1</td>\n",
       "      <td>4.9671</td>\n",
       "      <td>2</td>\n",
       "      <td>242.0</td>\n",
       "      <td>17.8</td>\n",
       "      <td>392.83</td>\n",
       "      <td>4.03</td>\n",
       "      <td>34.7</td>\n",
       "    </tr>\n",
       "    <tr>\n",
       "      <th>3</th>\n",
       "      <td>0.03237</td>\n",
       "      <td>0.0</td>\n",
       "      <td>2.18</td>\n",
       "      <td>0</td>\n",
       "      <td>0.458</td>\n",
       "      <td>6.998</td>\n",
       "      <td>45.8</td>\n",
       "      <td>6.0622</td>\n",
       "      <td>3</td>\n",
       "      <td>222.0</td>\n",
       "      <td>18.7</td>\n",
       "      <td>394.63</td>\n",
       "      <td>2.94</td>\n",
       "      <td>33.4</td>\n",
       "    </tr>\n",
       "    <tr>\n",
       "      <th>4</th>\n",
       "      <td>0.06905</td>\n",
       "      <td>0.0</td>\n",
       "      <td>2.18</td>\n",
       "      <td>0</td>\n",
       "      <td>0.458</td>\n",
       "      <td>7.147</td>\n",
       "      <td>54.2</td>\n",
       "      <td>6.0622</td>\n",
       "      <td>3</td>\n",
       "      <td>222.0</td>\n",
       "      <td>18.7</td>\n",
       "      <td>396.90</td>\n",
       "      <td>5.33</td>\n",
       "      <td>36.2</td>\n",
       "    </tr>\n",
       "  </tbody>\n",
       "</table>\n",
       "</div>"
      ],
      "text/plain": [
       "      CRIM    ZN  INDUS  CHAS    NOX     RM   AGE     DIS  RAD    TAX  \\\n",
       "0  0.00632  18.0   2.31     0  0.538  6.575  65.2  4.0900    1  296.0   \n",
       "1  0.02731   0.0   7.07     0  0.469  6.421  78.9  4.9671    2  242.0   \n",
       "2  0.02729   0.0   7.07     0  0.469  7.185  61.1  4.9671    2  242.0   \n",
       "3  0.03237   0.0   2.18     0  0.458  6.998  45.8  6.0622    3  222.0   \n",
       "4  0.06905   0.0   2.18     0  0.458  7.147  54.2  6.0622    3  222.0   \n",
       "\n",
       "   PTRATIO       B  LSTAT  MEDV  \n",
       "0     15.3  396.90   4.98  24.0  \n",
       "1     17.8  396.90   9.14  21.6  \n",
       "2     17.8  392.83   4.03  34.7  \n",
       "3     18.7  394.63   2.94  33.4  \n",
       "4     18.7  396.90   5.33  36.2  "
      ]
     },
     "execution_count": 2,
     "metadata": {},
     "output_type": "execute_result"
    }
   ],
   "source": [
    "# Daten laden\n",
    "# df = pd.read_csv('./data.csv')\n",
    "df = pd.read_csv('./boston.csv')\n",
    "\n",
    "# Daten vorverarbeiten\n",
    "df = df.dropna()\n",
    "df.head()"
   ]
  },
  {
   "cell_type": "markdown",
   "metadata": {},
   "source": [
    "#### Erklärung der Variablen zu Boston Dataset\n",
    "\n",
    "Input features in order:\n",
    "1) CRIM: per capita crime rate by town\n",
    "2) ZN: proportion of residential land zoned for lots over 25,000 sq.ft.\n",
    "3) INDUS: proportion of non-retail business acres per town\n",
    "4) CHAS: Charles River dummy variable (1 if tract bounds river; 0 otherwise)\n",
    "5) NOX: nitric oxides concentration (parts per 10 million) [parts/10M]\n",
    "6) RM: average number of rooms per dwelling\n",
    "7) AGE: proportion of owner-occupied units built prior to 1940\n",
    "8) DIS: weighted distances to five Boston employment centres\n",
    "9) RAD: index of accessibility to radial highways\n",
    "10) TAX: full-value property-tax rate per $10,000 [$/10k]\n",
    "11) PTRATIO: pupil-teacher ratio by town\n",
    "12) B: The result of the equation B=1000(Bk - 0.63)^2 where Bk is the proportion of blacks by town\n",
    "13) LSTAT: % lower status of the population\n",
    "\n",
    "Output variable:\n",
    "1) MEDV: Median value of owner-occupied homes in $1000's [k$]"
   ]
  },
  {
   "cell_type": "markdown",
   "metadata": {},
   "source": [
    "#### Modellentwicklung"
   ]
  },
  {
   "cell_type": "code",
   "execution_count": 3,
   "metadata": {},
   "outputs": [
    {
     "name": "stdout",
     "output_type": "stream",
     "text": [
      "                            OLS Regression Results                            \n",
      "==============================================================================\n",
      "Dep. Variable:                   MEDV   R-squared:                       0.263\n",
      "Model:                            OLS   Adj. R-squared:                  0.258\n",
      "Method:                 Least Squares   F-statistic:                     59.67\n",
      "Date:                Thu, 30 May 2024   Prob (F-statistic):           5.23e-33\n",
      "Time:                        18:28:43   Log-Likelihood:                -1763.1\n",
      "No. Observations:                 506   AIC:                             3534.\n",
      "Df Residuals:                     502   BIC:                             3551.\n",
      "Df Model:                           3                                         \n",
      "Covariance Type:            nonrobust                                         \n",
      "==============================================================================\n",
      "                 coef    std err          t      P>|t|      [0.025      0.975]\n",
      "------------------------------------------------------------------------------\n",
      "const         21.9715      0.449     48.937      0.000      21.089      22.854\n",
      "CHAS           6.1729      1.392      4.435      0.000       3.438       8.907\n",
      "CRIM          -0.3398      0.042     -8.108      0.000      -0.422      -0.257\n",
      "ZN             0.1199      0.015      7.761      0.000       0.090       0.150\n",
      "==============================================================================\n",
      "Omnibus:                      150.219   Durbin-Watson:                   0.821\n",
      "Prob(Omnibus):                  0.000   Jarque-Bera (JB):              358.817\n",
      "Skew:                           1.524   Prob(JB):                     1.21e-78\n",
      "Kurtosis:                       5.779   Cond. No.                         103.\n",
      "==============================================================================\n",
      "\n",
      "Notes:\n",
      "[1] Standard Errors assume that the covariance matrix of the errors is correctly specified.\n"
     ]
    }
   ],
   "source": [
    "# Zielvariable und Prädiktoren definieren\n",
    "# target = 'price'\n",
    "# predictors = ['bedrooms', 'bathrooms', 'sqft_living', 'sqft_lot', 'floors', \n",
    "#              'waterfront', 'view', 'condition', 'sqft_above', 'sqft_basement', \n",
    "#              'yr_built', 'yr_renovated']\n",
    "target = 'MEDV'\n",
    "predictors = df.columns.drop(target).tolist()\n",
    "predictors = ['CHAS', 'CRIM', 'ZN']\n",
    "\n",
    "# Daten für das Modell vorbereiten\n",
    "X = df[predictors]\n",
    "y = df[target]\n",
    "X = sm.add_constant(X)  # Adds a constant term to the predictor\n",
    "\n",
    "# Modell erstellen und fitten\n",
    "model = sm.OLS(y, X).fit()\n",
    "\n",
    "# Modellzusammenfassung anzeigen\n",
    "print(model.summary())"
   ]
  },
  {
   "cell_type": "markdown",
   "metadata": {},
   "source": [
    "- **R-squared (R²)**: Ein Maß für die Güte der Anpassung des Modells. Es gibt an, welcher Anteil der Varianz in der abhängigen Variable durch die unabhängigen Variablen erklärt wird. Ein Wert von 1 bedeutet perfekte Anpassung, ein Wert von 0 bedeutet, dass das Modell keine erklärende Kraft hat.\n",
    "- **Adj. R-squared**: Anpassung des R²-Werts, der die Anzahl der Prädiktoren berücksichtigt. Er gibt eine realistischere Einschätzung der Modellgüte, besonders wenn viele Prädiktoren verwendet werden.\n",
    "- **F-statistic und Prob (F-statistic)**: Der F-Test prüft, ob das Modell insgesamt signifikant ist. Ein kleiner p-Wert (unter 0.05) deutet darauf hin, dass das Modell signifikant ist.\n",
    "- **Coefficients**: Die Koeffizienten der unabhängigen Variablen im Modell. Diese Werte zeigen die geschätzte Änderung in der abhängigen Variable für eine Einheit Änderung der jeweiligen unabhängigen Variable.\n",
    "- **P>|t| für jeden Koeffizienten**: Der p-Wert für den t-Test der Nullhypothese, dass der Koeffizient gleich Null ist. Ein kleiner p-Wert (unter 0.05) deutet darauf hin, dass der Koeffizient signifikant von Null abweicht."
   ]
  },
  {
   "cell_type": "markdown",
   "metadata": {},
   "source": [
    "#### Signifikanztests"
   ]
  },
  {
   "cell_type": "code",
   "execution_count": 4,
   "metadata": {},
   "outputs": [
    {
     "name": "stdout",
     "output_type": "stream",
     "text": [
      "Parameter Signifikanz:\n",
      "const    3.354957e-193\n",
      "CHAS      1.131516e-05\n",
      "CRIM      3.958586e-15\n",
      "ZN        4.765846e-14\n",
      "Name: P>|t|, dtype: float64\n",
      "Modell Signifikanz:\n",
      "5.2300422014589025e-33\n"
     ]
    }
   ],
   "source": [
    "# Parameter Signifikanz\n",
    "parameter_p_values = model.summary2().tables[1]['P>|t|']\n",
    "print(\"Parameter Signifikanz:\")\n",
    "print(parameter_p_values)\n",
    "\n",
    "# Modell Signifikanz\n",
    "model_f_pvalue = model.f_pvalue\n",
    "print(\"Modell Signifikanz:\")\n",
    "print(model_f_pvalue)"
   ]
  },
  {
   "cell_type": "markdown",
   "metadata": {},
   "source": [
    "**Ergebnis**: Parameter Signifikanz\n",
    "\n",
    "- **P-Werte für jeden Parameter**: Diese zeigen, ob jeder einzelne Prädiktor signifikant zur Vorhersage der abhängigen Variable beiträgt. Ein p-Wert unter 0.05 deutet darauf hin, dass der entsprechende Prädiktor signifikant ist.\n",
    "\n",
    "**Ergebnis**: Modell Signifikanz\n",
    "\n",
    "- **F-Statistik p-Wert**: Dieser Wert gibt an, ob das gesamte Modell signifikant ist. Ein p-Wert unter 0.05 bedeutet, dass das Modell insgesamt signifikant ist und dass zumindest ein Prädiktor einen signifikanten Einfluss auf die abhängige Variable hat."
   ]
  },
  {
   "cell_type": "markdown",
   "metadata": {},
   "source": [
    "#### Ex-ante Prognose und Prognosefehler"
   ]
  },
  {
   "cell_type": "code",
   "execution_count": 5,
   "metadata": {},
   "outputs": [
    {
     "name": "stdout",
     "output_type": "stream",
     "text": [
      "Ex-ante Prognosefehler:\n",
      "47.187360369477005\n",
      "Final Prediction Error (FPE):\n",
      "67.16807095323574\n"
     ]
    }
   ],
   "source": [
    "# Daten in Trainings- und Testdatensatz aufteilen\n",
    "train_data, test_data = train_test_split(df, test_size=0.2, random_state=42)\n",
    "\n",
    "# Trainingsdaten für das Modell vorbereiten\n",
    "X_train = train_data[predictors]\n",
    "y_train = train_data[target]\n",
    "X_train = sm.add_constant(X_train)\n",
    "\n",
    "# Modell auf Trainingsdaten erstellen und fitten\n",
    "model = sm.OLS(y_train, X_train).fit()\n",
    "\n",
    "# Testdaten vorbereiten\n",
    "X_test = test_data[predictors]\n",
    "y_test = test_data[target]\n",
    "X_test = sm.add_constant(X_test)\n",
    "\n",
    "# Ex-ante Prognose durchführen\n",
    "ex_ante_predictions = model.predict(X_test)\n",
    "\n",
    "# Prognosefehler berechnen\n",
    "forecast_error = np.mean((ex_ante_predictions - y_test) ** 2)\n",
    "print(\"Ex-ante Prognosefehler:\")\n",
    "print(forecast_error)\n",
    "\n",
    "# Final Prediction Error (FPE) für das Modell auf den Trainingsdaten\n",
    "n = model.nobs\n",
    "k = model.df_model + 1\n",
    "residual_sum_of_squares = model.ssr\n",
    "fpe = residual_sum_of_squares / (n - k - 1)\n",
    "print(\"Final Prediction Error (FPE):\")\n",
    "print(fpe)"
   ]
  },
  {
   "cell_type": "markdown",
   "metadata": {},
   "source": [
    "**Ergbenis**: Ex-ante Prognosefehler\n",
    "\n",
    "- **Forecast Error (Prognosefehler)**: Dieser Wert misst die durchschnittliche Abweichung der Vorhersagen des Modells von den tatsächlichen Werten in den Testdaten. Ein kleinerer Wert deutet auf eine bessere Vorhersagegenauigkeit des Modells hin.\n",
    "\n",
    "**Ergebnis**: Final Prediction Error (FPE)\n",
    "\n",
    "- **FPE**: Ein Maß zur Bewertung der Modellgenauigkeit, das sowohl die Varianz der Schätzfehler als auch die Anzahl der Prädiktoren im Modell berücksichtigt. Ein kleinerer Wert deutet auf eine bessere Modellgenauigkeit hin.\n"
   ]
  },
  {
   "cell_type": "markdown",
   "metadata": {},
   "source": [
    "#### Test der Modellannahmen"
   ]
  },
  {
   "cell_type": "code",
   "execution_count": 6,
   "metadata": {},
   "outputs": [
    {
     "data": {
      "image/png": "[encoded data removed]",
      "text/plain": [
       "<Figure size 640x480 with 1 Axes>"
      ]
     },
     "metadata": {},
     "output_type": "display_data"
    },
    {
     "data": {
      "image/png": "[encoded data removed]",
      "text/plain": [
       "<Figure size 640x480 with 1 Axes>"
      ]
     },
     "metadata": {},
     "output_type": "display_data"
    },
    {
     "name": "stdout",
     "output_type": "stream",
     "text": [
      "Multikollinearität:\n",
      "   VIF Factor features\n",
      "0    1.008902     CHAS\n",
      "1    1.002737     CRIM\n",
      "2    1.006163       ZN\n"
     ]
    }
   ],
   "source": [
    "# Normalität der Residuen testen\n",
    "residuals = model.resid\n",
    "qqplot(residuals, line='s')\n",
    "plt.show()\n",
    "\n",
    "# Homoskedastizität der Residuen testen\n",
    "fitted = model.fittedvalues\n",
    "plt.scatter(fitted, residuals)\n",
    "plt.xlabel('Fitted values')\n",
    "plt.ylabel('Residuals')\n",
    "plt.axhline(0, color='red', linewidth=2)\n",
    "plt.show()\n",
    "\n",
    "# Multikollinearität testen\n",
    "from statsmodels.stats.outliers_influence import variance_inflation_factor\n",
    "\n",
    "X = df[predictors]\n",
    "vif = pd.DataFrame()\n",
    "vif[\"VIF Factor\"] = [variance_inflation_factor(X.values, i) for i in range(X.shape[1])]\n",
    "vif[\"features\"] = X.columns\n",
    "print(\"Multikollinearität:\")\n",
    "print(vif)"
   ]
  },
  {
   "cell_type": "markdown",
   "metadata": {},
   "source": [
    "**Ergebnis**: Normalität der Residuen\n",
    "\n",
    "- **Q-Q-Plot der Residuen**: Dies ist eine grafische Darstellung zur Überprüfung, ob die Residuen (Fehlerterme) des Modells einer Normalverteilung folgen. Wenn die Punkte im Q-Q-Plot entlang der Diagonalen liegen, deutet dies darauf hin, dass die Residuen normal verteilt sind.\n",
    "\n",
    "**Ergebnis**: Homoskedastizität der Residuen\n",
    "\n",
    "- **Streudiagramm der Residuen gegen die vorhergesagten Werte**: Dieses Diagramm zeigt, ob die Varianz der Residuen konstant bleibt (Homoskedastizität) oder sich ändert (Heteroskedastizität). Eine gleichmäßige Streuung der Punkte deutet auf Homoskedastizität hin, während ein Muster auf Heteroskedastizität hinweist.\n",
    "\n",
    "**Ergebnis**: Multikollinearität\n",
    "\n",
    "- **Variance Inflation Factor (VIF)**: Diese Werte zeigen, ob es Multikollinearität zwischen den Prädiktoren gibt. Ein VIF-Wert über 10 deutet auf eine hohe Korrelation und damit auf Multikollinearität hin, was die Schätzung der Koeffizienten destabilisieren kann."
   ]
  },
  {
   "cell_type": "markdown",
   "metadata": {},
   "source": [
    "### TODO's:\n",
    "\n",
    "- A. Korrelationsplot und Auswahl der Regressoren + Beschreibung (Niclas und Luis)\n",
    "- B. Boxplots für AV und Regressoren (Marc)\n",
    "1. Modellentwicklung (Marc) \n",
    "2. Signifikanztest (Marc)\n",
    "3. Test der Modellannahmen (Luis)\n",
    "4. Ex-Ante Prognose (Niclas)\n",
    "\n",
    "- Sonntag Finales Meeting."
   ]
  },
  {
   "cell_type": "markdown",
   "metadata": {},
   "source": []
  }
 ],
 "metadata": {
  "kernelspec": {
   "display_name": "base",
   "language": "python",
   "name": "python3"
  },
  "language_info": {
   "codemirror_mode": {
    "name": "ipython",
    "version": 3
   },
   "file_extension": ".py",
   "mimetype": "text/x-python",
   "name": "python",
   "nbconvert_exporter": "python",
   "pygments_lexer": "ipython3",
   "version": "3.11.5"
  }
 },
 "nbformat": 4,
 "nbformat_minor": 2
}
